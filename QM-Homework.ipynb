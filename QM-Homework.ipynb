{
 "cells": [
  {
   "cell_type": "markdown",
   "id": "f3cb5705",
   "metadata": {
    "slideshow": {
     "slide_type": "slide"
    }
   },
   "source": [
    "# Quality Match - Homework\n",
    "\n",
    "### Chang Huan Lo"
   ]
  },
  {
   "cell_type": "markdown",
   "id": "c1449943",
   "metadata": {
    "slideshow": {
     "slide_type": "skip"
    }
   },
   "source": [
    "## Load data"
   ]
  },
  {
   "cell_type": "code",
   "execution_count": 1,
   "id": "3623bc26",
   "metadata": {
    "slideshow": {
     "slide_type": "skip"
    }
   },
   "outputs": [],
   "source": [
    "import json\n",
    "import matplotlib.pyplot as plt\n",
    "import numpy as np\n",
    "import pandas as pd\n",
    "\n",
    "from scipy import stats\n",
    "\n",
    "# open ref data file and transpose\n",
    "ref_data = pd.read_json('references.json').T\n",
    "\n",
    "# open annotator data file, transpose cols and rows, and extract nested data \n",
    "with open('anonymized_project.json') as f:\n",
    "    d = json.load(f)\n",
    "annotator_data = (pd.DataFrame(d['results']['root_node']['results'])\n",
    "                  .T\n",
    "                  .explode('results'))\n",
    "annotator_data = pd.json_normalize(annotator_data['results'])\n",
    "\n",
    "# detect missing values\n",
    "annotator_data.isnull().values.any()\n",
    "\n",
    "# convert string to datetime\n",
    "annotator_data['created_at'] = pd.to_datetime(annotator_data['created_at'])"
   ]
  },
  {
   "cell_type": "code",
   "execution_count": 2,
   "id": "6d280be7",
   "metadata": {
    "slideshow": {
     "slide_type": "skip"
    }
   },
   "outputs": [],
   "source": [
    "# function to plot timeline of all responses for an annotator\n",
    "def plot_response_timeline(annotator_id, ax):    \n",
    "    df = annotator_data.query('`user.vendor_user_id` == @annotator_id')\n",
    "    x = df['created_at']\n",
    "    y = df['task_output.answer']\n",
    "    s = pd.Series(y.values, index = x)\n",
    "    \n",
    "    # plot blue for 'yes' and 'no'\n",
    "    s1 = s[s != \"\"]\n",
    "    times = list(zip(s1.index.view(np.int64), np.ones(len(s1))))\n",
    "    plt.broken_barh(times, (-1,1), color = 'C0')\n",
    "\n",
    "    # plot red for 'can't solve' or 'corrupt data' \n",
    "    s2 = s[s == \"\"]\n",
    "    times = list(zip(s2.index.view(np.int64), np.ones(len(s2))))\n",
    "    plt.broken_barh(times, (-1,1), color = 'r')\n",
    "\n",
    "    # format axes\n",
    "    ax.margins(0)\n",
    "    ax.set_yticks([])\n",
    "    ax.set_xticks([])\n",
    "\n",
    "    \n",
    "# function to plot boxplot for performance metrics\n",
    "def identify_outliers(metric):\n",
    "    # compute boxplot fences\n",
    "    q1 = perf[metric].quantile(0.25)\n",
    "    q3 = perf[metric].quantile(0.75)\n",
    "    iqr = q3 - q1\n",
    "    lower_fence = q1 - 1.5 * iqr\n",
    "    upper_fence = q3 + 1.5 * iqr\n",
    "\n",
    "    # plot accuracy\n",
    "    plot = perf[metric].plot(kind='box')\n",
    "\n",
    "    # annotate outliers in boxplot\n",
    "    for index, met in perf[metric].iteritems():\n",
    "        if met > upper_fence or met < lower_fence:\n",
    "            plot.annotate(\n",
    "                index,\n",
    "                (1.02, met),\n",
    "                fontsize = 8)\n",
    "\n",
    "    # identify outliers\n",
    "    print(perf[perf[metric] < lower_fence].index.values)"
   ]
  },
  {
   "cell_type": "markdown",
   "id": "8457e8e6",
   "metadata": {
    "slideshow": {
     "slide_type": "slide"
    }
   },
   "source": [
    "## Gather insights about the annotators"
   ]
  },
  {
   "cell_type": "markdown",
   "id": "ef6b96a7",
   "metadata": {
    "slideshow": {
     "slide_type": "slide"
    }
   },
   "source": [
    "### How many annotators did contribute to the dataset?"
   ]
  },
  {
   "cell_type": "code",
   "execution_count": 3,
   "id": "ab20d46a",
   "metadata": {
    "slideshow": {
     "slide_type": "fragment"
    }
   },
   "outputs": [
    {
     "data": {
      "text/plain": [
       "22"
      ]
     },
     "execution_count": 3,
     "metadata": {},
     "output_type": "execute_result"
    }
   ],
   "source": [
    "annotator_data['user.id'].nunique()"
   ]
  },
  {
   "cell_type": "markdown",
   "id": "9669d77a",
   "metadata": {
    "slideshow": {
     "slide_type": "slide"
    }
   },
   "source": [
    "### What are the average, min and max annotation times (durations)? "
   ]
  },
  {
   "cell_type": "code",
   "execution_count": 4,
   "id": "e8d662ab",
   "metadata": {
    "slideshow": {
     "slide_type": "fragment"
    }
   },
   "outputs": [
    {
     "data": {
      "text/plain": [
       "count    90870.000000\n",
       "mean      1284.333873\n",
       "std       1351.960465\n",
       "min     -99999.000000\n",
       "25%        887.000000\n",
       "50%       1058.000000\n",
       "75%       1328.000000\n",
       "max      42398.000000\n",
       "Name: task_output.duration_ms, dtype: float64"
      ]
     },
     "execution_count": 4,
     "metadata": {},
     "output_type": "execute_result"
    }
   ],
   "source": [
    "annotator_data['task_output.duration_ms'].describe()"
   ]
  },
  {
   "cell_type": "markdown",
   "id": "b0470b36",
   "metadata": {
    "slideshow": {
     "slide_type": "slide"
    }
   },
   "source": [
    "### Did all annotators produce the same amount of results, or are there differences?\n",
    "\n",
    "No. Annotator_02 produced the most results (*n*=7596), while annotator_19 produced the fewest (*n*=170)."
   ]
  },
  {
   "cell_type": "code",
   "execution_count": 5,
   "id": "efb177f4",
   "metadata": {
    "slideshow": {
     "slide_type": "fragment"
    }
   },
   "outputs": [
    {
     "data": {
      "text/plain": [
       "<AxesSubplot:>"
      ]
     },
     "execution_count": 5,
     "metadata": {},
     "output_type": "execute_result"
    },
    {
     "data": {
      "image/png": "[encoded data removed]",
      "text/plain": [
       "<Figure size 432x288 with 1 Axes>"
      ]
     },
     "metadata": {
      "needs_background": "light"
     },
     "output_type": "display_data"
    }
   ],
   "source": [
    "annotator_counts = annotator_data['user.vendor_user_id'].value_counts()\n",
    "annotator_counts.plot(kind='bar')"
   ]
  },
  {
   "cell_type": "code",
   "execution_count": 6,
   "id": "584c2fd4",
   "metadata": {
    "slideshow": {
     "slide_type": "subslide"
    }
   },
   "outputs": [
    {
     "data": {
      "text/plain": [
       "annotator_02    7596\n",
       "annotator_13    7078\n",
       "annotator_08    6537\n",
       "annotator_11    6436\n",
       "annotator_04    6421\n",
       "annotator_12    6210\n",
       "annotator_20    6126\n",
       "annotator_15    6088\n",
       "annotator_06    5337\n",
       "annotator_18    5170\n",
       "annotator_16    5061\n",
       "annotator_09    4860\n",
       "annotator_17    3485\n",
       "annotator_05    3475\n",
       "annotator_21    2950\n",
       "annotator_07    2175\n",
       "annotator_22    1745\n",
       "annotator_14    1725\n",
       "annotator_01    1280\n",
       "annotator_03     630\n",
       "annotator_10     315\n",
       "annotator_19     170\n",
       "Name: user.vendor_user_id, dtype: int64"
      ]
     },
     "execution_count": 6,
     "metadata": {},
     "output_type": "execute_result"
    }
   ],
   "source": [
    "annotator_counts"
   ]
  },
  {
   "cell_type": "markdown",
   "id": "7449ff4d",
   "metadata": {
    "slideshow": {
     "slide_type": "slide"
    }
   },
   "source": [
    "### Are there questions for which annotators highly disagree?\n",
    "\n",
    "There are 197 questions where agreement is lower than 70%."
   ]
  },
  {
   "cell_type": "code",
   "execution_count": 7,
   "id": "1bc02235",
   "metadata": {
    "slideshow": {
     "slide_type": "fragment"
    }
   },
   "outputs": [
    {
     "data": {
      "text/plain": [
       "<AxesSubplot:>"
      ]
     },
     "execution_count": 7,
     "metadata": {},
     "output_type": "execute_result"
    },
    {
     "data": {
      "image/png": "[encoded data removed]",
      "text/plain": [
       "<Figure size 432x288 with 1 Axes>"
      ]
     },
     "metadata": {
      "needs_background": "light"
     },
     "output_type": "display_data"
    }
   ],
   "source": [
    "# for each question, count number of yes, no\n",
    "agree = annotator_data.groupby(['task_input.image_url', 'task_output.answer']).size().unstack(fill_value=0)\n",
    "agree['percentage'] = agree[['', 'no', 'yes']].max(axis=1) / agree[['', 'no', 'yes']].sum(axis=1) * 100\n",
    "agree['percentage'].value_counts().plot(kind='bar')"
   ]
  },
  {
   "cell_type": "code",
   "execution_count": 8,
   "id": "cd67b89f",
   "metadata": {
    "slideshow": {
     "slide_type": "fragment"
    }
   },
   "outputs": [
    {
     "data": {
      "text/plain": [
       "100.0    7369\n",
       "90.0     1083\n",
       "80.0      250\n",
       "70.0      188\n",
       "60.0      129\n",
       "50.0       68\n",
       "Name: percentage, dtype: int64"
      ]
     },
     "execution_count": 8,
     "metadata": {},
     "output_type": "execute_result"
    }
   ],
   "source": [
    "agree['percentage'].value_counts()"
   ]
  },
  {
   "cell_type": "markdown",
   "id": "8919eb14",
   "metadata": {
    "slideshow": {
     "slide_type": "slide"
    }
   },
   "source": [
    "## Besides picking yes or no the annotators had the chance to tell if the data were corrupted ('corrupt_data') or if they for any reason were not able to solve the task ('cant_solve')."
   ]
  },
  {
   "cell_type": "markdown",
   "id": "9050b7be",
   "metadata": {
    "slideshow": {
     "slide_type": "slide"
    }
   },
   "source": [
    "### How often does each occur in the project?"
   ]
  },
  {
   "cell_type": "code",
   "execution_count": 9,
   "id": "c1e51d0a",
   "metadata": {
    "slideshow": {
     "slide_type": "fragment"
    }
   },
   "outputs": [
    {
     "data": {
      "text/plain": [
       "False    90866\n",
       "True         4\n",
       "Name: task_output.corrupt_data, dtype: int64"
      ]
     },
     "execution_count": 9,
     "metadata": {},
     "output_type": "execute_result"
    }
   ],
   "source": [
    "annotator_data['task_output.corrupt_data'].value_counts() # 4 corrupt"
   ]
  },
  {
   "cell_type": "code",
   "execution_count": 10,
   "id": "7e784a5a",
   "metadata": {
    "slideshow": {
     "slide_type": "fragment"
    }
   },
   "outputs": [
    {
     "data": {
      "text/plain": [
       "False    90853\n",
       "True        17\n",
       "Name: task_output.cant_solve, dtype: int64"
      ]
     },
     "execution_count": 10,
     "metadata": {},
     "output_type": "execute_result"
    }
   ],
   "source": [
    "annotator_data['task_output.cant_solve'].value_counts() # 17 can't solve"
   ]
  },
  {
   "cell_type": "markdown",
   "id": "2636158e",
   "metadata": {
    "slideshow": {
     "slide_type": "slide"
    }
   },
   "source": [
    "###  Do you see a trend within the annotators that made use of these options?\n",
    "\n",
    "To answer this question, we explore:\n",
    "* Number of responses produced\n",
    "* Timeline of responses\n",
    "* Reaction time"
   ]
  },
  {
   "cell_type": "markdown",
   "id": "fecf6964",
   "metadata": {
    "slideshow": {
     "slide_type": "slide"
    }
   },
   "source": [
    "#### Number of responses produced\n",
    "\n",
    "Of the 10 annotators who made use of these options, 7 are among the top 10 contributors in terms of the number of responses produced:"
   ]
  },
  {
   "cell_type": "code",
   "execution_count": 11,
   "id": "dc9a3b98",
   "metadata": {
    "slideshow": {
     "slide_type": "fragment"
    }
   },
   "outputs": [
    {
     "data": {
      "image/png": "[encoded data removed]",
      "text/plain": [
       "<Figure size 432x288 with 1 Axes>"
      ]
     },
     "metadata": {
      "needs_background": "light"
     },
     "output_type": "display_data"
    }
   ],
   "source": [
    "# get annotators who marked any row with 'cant solve' or 'corrupt data'\n",
    "no_answer_users = annotator_data.query('`task_output.cant_solve` | `task_output.corrupt_data`')['user.vendor_user_id'].unique()\n",
    "\n",
    "plot_counts = annotator_counts.plot(kind='bar')\n",
    "\n",
    "# highlight these annotators in plot\n",
    "for ticks in plot_counts.xaxis.get_major_ticks():\n",
    "    if ticks.label1.get_text() in no_answer_users:\n",
    "        plot_counts.patches[annotator_counts.index.get_loc(ticks.label1.get_text())].set_facecolor('r')\n"
   ]
  },
  {
   "cell_type": "markdown",
   "id": "decae629",
   "metadata": {
    "slideshow": {
     "slide_type": "slide"
    }
   },
   "source": [
    "#### Timeline of responses\n",
    "\n",
    "Red line: time point at which a question was marked as 'corrupt data' or 'cant solve'. <br>\n",
    "Blue line: time point at which a question was marked as 'yes' or 'no'. "
   ]
  },
  {
   "cell_type": "code",
   "execution_count": 12,
   "id": "2011ad58",
   "metadata": {
    "slideshow": {
     "slide_type": "fragment"
    }
   },
   "outputs": [
    {
     "data": {
      "image/png": "[encoded data removed]",
      "text/plain": [
       "<Figure size 720x288 with 10 Axes>"
      ]
     },
     "metadata": {},
     "output_type": "display_data"
    }
   ],
   "source": [
    "# plot timeline of responses for annotators who marked any row with 'cant solve' or 'corrupt data'\n",
    "fig = plt.figure(constrained_layout=True, figsize = (10,4))\n",
    "nrows = np.ceil(no_answer_users.size/2).astype('int')\n",
    "subfigs = fig.subfigures(nrows, 2)\n",
    "\n",
    "for i, subfig in enumerate(subfigs.flat):\n",
    "    ax = subfig.subplots()\n",
    "    ax.set_title(no_answer_users[i])\n",
    "    plot_response_timeline(no_answer_users[i], ax)\n",
    "\n",
    "plt.show()"
   ]
  },
  {
   "cell_type": "markdown",
   "id": "4fcf3f65",
   "metadata": {
    "slideshow": {
     "slide_type": "slide"
    }
   },
   "source": [
    "#### Reaction time\n",
    "\n",
    "A Welch's *t*-test reveals no significant difference in mean RT between annotators who used the 'corrupt data' and 'cant solve' options ('True' in the plot below) and those who did not ('False' in the plot below); *p*=.721."
   ]
  },
  {
   "cell_type": "code",
   "execution_count": 16,
   "id": "3b0cfe69",
   "metadata": {
    "slideshow": {
     "slide_type": "fragment"
    }
   },
   "outputs": [
    {
     "data": {
      "image/png": "[encoded data removed]",
      "text/plain": [
       "<Figure size 432x288 with 1 Axes>"
      ]
     },
     "metadata": {
      "needs_background": "light"
     },
     "output_type": "display_data"
    }
   ],
   "source": [
    "# exclude negative RTs\n",
    "groupby_user = annotator_data.query('`task_output.duration_ms` >= 0').groupby('user.vendor_user_id')\n",
    "\n",
    "# summarise 'cant solve', 'corrupt data', 'duration'\n",
    "counts = groupby_user.size().to_frame(name = 'counts')\n",
    "summary = (counts\n",
    "           .join(groupby_user.agg({i: 'mean' for i in ['task_output.cant_solve', \n",
    "                                               'task_output.corrupt_data',\n",
    "                                               'task_output.duration_ms']}))\n",
    ")\n",
    "summary['is_no_answer_user'] = summary.index.isin(no_answer_users)\n",
    "summary.boxplot(column = 'task_output.duration_ms', by = 'is_no_answer_user')\n",
    "plt.suptitle('')\n",
    "plt.show()"
   ]
  },
  {
   "cell_type": "code",
   "execution_count": 17,
   "id": "f96d2c71",
   "metadata": {
    "slideshow": {
     "slide_type": "skip"
    }
   },
   "outputs": [
    {
     "data": {
      "text/plain": [
       "Ttest_indResult(statistic=0.3632476266832818, pvalue=0.7208231967549894)"
      ]
     },
     "execution_count": 17,
     "metadata": {},
     "output_type": "execute_result"
    }
   ],
   "source": [
    "# Welch's t-test on annotators' mean RTs\n",
    "group_no_answer = summary.query('`user.vendor_user_id` in @no_answer_users')\n",
    "group_answer = summary.query('`user.vendor_user_id` not in @no_answer_users')\n",
    "stats.ttest_ind(group_no_answer['task_output.duration_ms'], group_answer['task_output.duration_ms'], equal_var=False)"
   ]
  },
  {
   "cell_type": "markdown",
   "id": "e9e0bd31",
   "metadata": {
    "slideshow": {
     "slide_type": "slide"
    }
   },
   "source": [
    "## Is the reference set balanced?\n",
    "\n",
    "Yes, with similar number of True (*n* = 4586) and False (*n* = 4501) responses."
   ]
  },
  {
   "cell_type": "code",
   "execution_count": 18,
   "id": "07cec546",
   "metadata": {
    "slideshow": {
     "slide_type": "fragment"
    }
   },
   "outputs": [
    {
     "data": {
      "text/plain": [
       "<AxesSubplot:ylabel='is_bicycle'>"
      ]
     },
     "execution_count": 18,
     "metadata": {},
     "output_type": "execute_result"
    },
    {
     "data": {
      "image/png": "[encoded data removed]",
      "text/plain": [
       "<Figure size 432x288 with 1 Axes>"
      ]
     },
     "metadata": {},
     "output_type": "display_data"
    }
   ],
   "source": [
    "ref_data.value_counts()\n",
    "ref_data['is_bicycle'].value_counts().plot(kind='pie', y='is_bicycle', autopct='%1.2f%%')"
   ]
  },
  {
   "cell_type": "markdown",
   "id": "a1e88373",
   "metadata": {
    "slideshow": {
     "slide_type": "slide"
    }
   },
   "source": [
    "## Using the reference set, can you identify good and bad annotators? \n",
    "\n",
    "We compute two metrics:\n",
    "* Accuracy\n",
    "* F-score"
   ]
  },
  {
   "cell_type": "code",
   "execution_count": 19,
   "id": "7dabf8bb",
   "metadata": {
    "slideshow": {
     "slide_type": "skip"
    }
   },
   "outputs": [],
   "source": [
    "# extract image name\n",
    "annotator_data['image'] = annotator_data['task_input.image_url'].str.extract(r'(img_\\d+)')\n",
    "\n",
    "# merge annotator data with ref data\n",
    "annotator_data = annotator_data.merge(ref_data, left_on='image', right_index=True)\n",
    "\n",
    "# populate columns for confusion matrix: true positive, false positive, true negative, false negative\n",
    "annotator_data['TP'] = np.where((annotator_data['task_output.answer'] == 'yes') & (annotator_data['is_bicycle']), True, False)\n",
    "annotator_data['FP'] = np.where((annotator_data['task_output.answer'] == 'yes') & (~annotator_data['is_bicycle']), True, False)\n",
    "annotator_data['TN'] = np.where((annotator_data['task_output.answer'] == 'no') & (~annotator_data['is_bicycle']), True, False)\n",
    "annotator_data['FN'] = np.where((annotator_data['task_output.answer'] == 'no') & (annotator_data['is_bicycle']), True, False)\n",
    "\n",
    "# compute metrics\n",
    "perf = (annotator_data.query('`task_output.answer` != \"\"')\n",
    "        .groupby('user.vendor_user_id')\n",
    "        .agg({i:'sum' for i in ['TP','FP','TN','FN']}))\n",
    "perf = perf.assign(accuracy = lambda x: (x.TP + x.TN) / (x.TP + x.FP + x.TN + x.FN),\n",
    "                   recall = lambda x: x.TP / (x.TP + x.FN),\n",
    "                   precision = lambda x: x.TP / (x.TP + x.FP),\n",
    "                   fscore = lambda x: 2 / ((1 / x.recall) + (1 / x.precision)))"
   ]
  },
  {
   "cell_type": "markdown",
   "id": "e1963768",
   "metadata": {
    "slideshow": {
     "slide_type": "slide"
    }
   },
   "source": [
    "### Accuracy\n",
    "\n",
    "The bad annotators (i.e., outliers in boxplot) are:"
   ]
  },
  {
   "cell_type": "code",
   "execution_count": 20,
   "id": "80f78a62",
   "metadata": {
    "slideshow": {
     "slide_type": "fragment"
    }
   },
   "outputs": [
    {
     "name": "stdout",
     "output_type": "stream",
     "text": [
      "['annotator_08' 'annotator_10']\n"
     ]
    },
    {
     "data": {
      "image/png": "[encoded data removed]",
      "text/plain": [
       "<Figure size 432x288 with 1 Axes>"
      ]
     },
     "metadata": {
      "needs_background": "light"
     },
     "output_type": "display_data"
    }
   ],
   "source": [
    "identify_outliers('accuracy')"
   ]
  },
  {
   "cell_type": "markdown",
   "id": "5a5186e7",
   "metadata": {
    "slideshow": {
     "slide_type": "slide"
    }
   },
   "source": [
    "### F-score\n",
    "\n",
    "The bad annotators (i.e., outliers in boxplot) are:"
   ]
  },
  {
   "cell_type": "code",
   "execution_count": 21,
   "id": "b5955da0",
   "metadata": {
    "slideshow": {
     "slide_type": "fragment"
    }
   },
   "outputs": [
    {
     "name": "stdout",
     "output_type": "stream",
     "text": [
      "['annotator_08' 'annotator_10']\n"
     ]
    },
    {
     "data": {
      "image/png": "[encoded data removed]",
      "text/plain": [
       "<Figure size 432x288 with 1 Axes>"
      ]
     },
     "metadata": {
      "needs_background": "light"
     },
     "output_type": "display_data"
    }
   ],
   "source": [
    "identify_outliers('fscore')"
   ]
  }
 ],
 "metadata": {
  "celltoolbar": "Slideshow",
  "kernelspec": {
   "display_name": "myenv",
   "language": "python",
   "name": "myenv"
  },
  "language_info": {
   "codemirror_mode": {
    "name": "ipython",
    "version": 3
   },
   "file_extension": ".py",
   "mimetype": "text/x-python",
   "name": "python",
   "nbconvert_exporter": "python",
   "pygments_lexer": "ipython3",
   "version": "3.9.5"
  }
 },
 "nbformat": 4,
 "nbformat_minor": 5
}
